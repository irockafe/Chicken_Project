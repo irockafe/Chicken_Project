{
 "cells": [
  {
   "cell_type": "code",
   "execution_count": 1,
   "metadata": {
    "collapsed": true
   },
   "outputs": [],
   "source": [
    "# import stuff\n",
    "import matplotlib.pyplot as plt\n",
    "import seaborn as sns\n",
    "import pandas as pd\n",
    "from sklearn.metrics import r2_score, mean_squared_error\n",
    "from sklearn.linear_model import Lasso, LassoCV\n",
    "from sklearn.linear_model import ElasticNet\n",
    "from sklearn.cross_validation import train_test_split, cross_val_predict\n",
    "from scipy import stats\n",
    "from sklearn.cross_validation import ShuffleSplit\n",
    "import numpy as np\n",
    "from collections import defaultdict\n",
    "import seaborn as sns\n",
    "import almlab_scripts as alm\n",
    "import time\n",
    "import os\n",
    "import cPickle as pickle\n",
    "from sklearn import linear_model\n",
    "import warnings\n",
    "\n",
    "%matplotlib inline"
   ]
  },
  {
   "cell_type": "markdown",
   "metadata": {},
   "source": [
    "<h2> Get OTU table and metadata </h2>"
   ]
  },
  {
   "cell_type": "code",
   "execution_count": 19,
   "metadata": {
    "collapsed": false
   },
   "outputs": [
    {
     "name": "stdout",
     "output_type": "stream",
     "text": [
      "Phylum: Bacteroidetes\n"
     ]
    }
   ],
   "source": [
    "# Get all the metadata and OTU tables and remove maturation project from them\n",
    "reload(alm)\n",
    "#set your local paths\n",
    "my_path = '/home/irockafe/Dropbox (MIT)/Alm_Lab/Chicken_Project/'\n",
    "output_base = my_path + '4Isaac/Lasso/'\n",
    "# Get Metadata, rdp info, and otu table\n",
    "\n",
    "# Get Metadata as dataframe\n",
    "metadata_path = my_path + '/4Isaac/Metadata_files/allTogether_meta.txt'\n",
    "metadata = pd.read_table(metadata_path, sep='\\t', index_col=0, header=0)\n",
    "\n",
    "# Load in the RDP information\n",
    "rdp_path = my_path + '/4Isaac/Metadata_files/biom_attempts/CobBreeder_AllTogether_250.otu_seqs.97.rdp'\n",
    "asdf = alm.get_phylo_from_RDP(rdp_path, 'denovo38', 0.5) # gets phylo data\n",
    "print asdf\n",
    "\n",
    "# Import the OTU table as a dataframe and normalize\n",
    "otu_table_path = my_path + '/4Isaac/CobbBreeder_usearchQfilt_062016.otu_table.97.denovo.f500.txt'\n",
    "otu_table = pd.read_table(otu_table_path, sep='\\t', index_col=0, header=0)\n",
    "# Make fractions\n",
    "counts = otu_table.sum(axis=0)\n",
    "fractional_otu_table = otu_table.div(counts, axis=1)\n",
    "assert((1-fractional_otu_table.sum(axis=0) <= 1e-9)).all()\n",
    "# log transform\n",
    "max_reads = max(otu_table.sum(axis=0))\n",
    "zero_filler = float(1/(max_reads*10))\n",
    "log_otu_table = alm.log_transform(fractional_otu_table, zero_filler)\n",
    "\n",
    "# Remove columns from metadata that aren't in OTU table\n",
    "all_meta = metadata.loc[otu_table.columns] \n"
   ]
  },
  {
   "cell_type": "markdown",
   "metadata": {},
   "source": [
    "<h2> Divide OTU table into each experiment </h2>"
   ]
  },
  {
   "cell_type": "code",
   "execution_count": 25,
   "metadata": {
    "collapsed": false
   },
   "outputs": [
    {
     "name": "stdout",
     "output_type": "stream",
     "text": [
      "\n",
      "------Line_B_WeightGr-------\n",
      "\n",
      "------Line_A_WeightGr-------\n",
      "\n",
      "------FCR-------\n",
      "\n",
      "------FERES-------\n"
     ]
    }
   ],
   "source": [
    "# Subdivide the counts OTU tables by each project and store them in a dictionary so that we \n",
    "# can filter things correctly downstream (Example: We want to keep only OTUs \n",
    "# with >1e-3 abundance in at least 7 samples for Line A, Study#1. We don't want to do this\n",
    "# for All samples, just those in Line A, Study#1)\n",
    "\n",
    "lines = ['A', 'B']\n",
    "features = ['WeightGr', 'FCR', 'FERES']\n",
    "otu_tables = {}\n",
    "\n",
    "for line in lines:\n",
    "    for feature in features:\n",
    "        series_name = 'Line_%s_%s' % (line, feature)\n",
    "        # we don't care about some groupings\n",
    "        if series_name in ['Line_B_FCR', 'Line_A_FCR', 'Line_A_FERES', 'Line_B_FERES']:\n",
    "            continue\n",
    "        group = all_meta[ (all_meta['Line'] == line) & \n",
    "                         (pd.notnull(all_meta[feature]))]\n",
    "        metadata = group[feature]\n",
    "        group_otus = otu_table[group.index]\n",
    "        \n",
    "        otu_tables[series_name] = {'otu table': group_otus, 'metadata': metadata}\n",
    "\n",
    "# Repeat for FCR, FERES, Lines A&B combined\n",
    "features = ['FCR', 'FERES']\n",
    "for feature in features:\n",
    "    group = all_meta[(pd.notnull(all_meta[feature]))]\n",
    "    metadata = group[feature]\n",
    "    group_otus = otu_table[group.index]\n",
    "    series_name = '%s' % (feature)\n",
    "    otu_tables[series_name] = {'otu table': group_otus, 'metadata': metadata} #assign to a dictionary, so I can access the correct table later\n",
    "\n",
    "for i in otu_tables.keys():\n",
    "    print '\\n------%s-------' % i\n",
    "    # Make sure you didn't screw up\n",
    "    assert( sorted(otu_tables[i]['otu table'].columns) == sorted(otu_tables[i]['metadata'].index))"
   ]
  },
  {
   "cell_type": "markdown",
   "metadata": {},
   "source": [
    "<h2> Now add the filtered OTU table and +/- lasso coefficients to each experimental group </h2>"
   ]
  },
  {
   "cell_type": "code",
   "execution_count": 30,
   "metadata": {
    "collapsed": false
   },
   "outputs": [],
   "source": [
    "# require OTU present in 4+ chickens to remain\n",
    "# And load up coefficient stability-selection from Lasso cross-validation\n",
    "\n",
    "filtered_otu_tables = {key:{'metadata': None, \n",
    "                            'otu table': None,\n",
    "                           'pos coef': None} for key in otu_tables}\n",
    "\n",
    "for key, value in otu_tables.iteritems():\n",
    "    original_table = value['otu table']\n",
    "    metadata = value['metadata']\n",
    "    # filter by 4 chicken prevalence\n",
    "    filtered_table = alm.filter_abundance(original_table, 0, 4)\n",
    "    # add filtered table to your data\n",
    "    otu_tables[key]['filtered table'] = filtered_table\n",
    "    # add positive and negative cv-lasso coefficients to data\n",
    "    # Get the coefficient data\n",
    "    neg_coef_path = output_base + 'leave_one_out_cross_validation/coefficient_stability/%s_negative_coefficient_stability.tab' % key\n",
    "    pos_coef_path = output_base + 'leave_one_out_cross_validation/coefficient_stability/%s_positive_coefficient_stability.tab' % key\n",
    "\n",
    "    neg_coef_data = pd.read_csv(neg_coef_path, sep='\\t', index_col=0)\n",
    "    pos_coef_data = pd.read_csv(pos_coef_path, sep='\\t', index_col=0)\n",
    "    otu_tables[key]['+ lasso coef'] = pos_coef_data\n",
    "    otu_tables[key]['- lasso coef'] = neg_coef_data\n"
   ]
  },
  {
   "cell_type": "code",
   "execution_count": 38,
   "metadata": {
    "collapsed": false
   },
   "outputs": [
    {
     "name": "stdout",
     "output_type": "stream",
     "text": [
      "['Line_B_WeightGr', 'Line_A_WeightGr', 'FCR', 'FERES']\n"
     ]
    }
   ],
   "source": [
    "# Make null distribution for spearman, all samples and 4-chicken filtered\n",
    "print otu_tables.keys()\n"
   ]
  },
  {
   "cell_type": "code",
   "execution_count": null,
   "metadata": {
    "collapsed": true
   },
   "outputs": [],
   "source": [
    "# *** Load up the coefficients selected by lasso\n",
    "\n",
    "#*** Filter OTUs at 4-chicken prevalence level\n",
    "\n",
    "# Multihypothesis test 4-chicken filtered OTU tables for \n",
    "# spearman, pearson, and mann-whitney\n",
    "\n",
    "# Make boxplots with lasso-OTUs & empirical Mann-whitney value\n",
    "\n",
    "# Make log-abundance vs. y plots with empirical spearman and pearson values\n"
   ]
  }
 ],
 "metadata": {
  "kernelspec": {
   "display_name": "Python 2",
   "language": "python",
   "name": "python2"
  },
  "language_info": {
   "codemirror_mode": {
    "name": "ipython",
    "version": 2
   },
   "file_extension": ".py",
   "mimetype": "text/x-python",
   "name": "python",
   "nbconvert_exporter": "python",
   "pygments_lexer": "ipython2",
   "version": "2.7.6"
  }
 },
 "nbformat": 4,
 "nbformat_minor": 0
}
